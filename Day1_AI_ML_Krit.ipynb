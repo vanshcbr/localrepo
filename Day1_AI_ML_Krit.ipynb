{
  "nbformat": 4,
  "nbformat_minor": 0,
  "metadata": {
    "colab": {
      "provenance": [],
      "toc_visible": true,
      "gpuType": "T4",
      "authorship_tag": "ABX9TyP1kVIX7+XjM1iP48s+vUr7",
      "include_colab_link": true
    },
    "kernelspec": {
      "name": "python3",
      "display_name": "Python 3"
    },
    "language_info": {
      "name": "python"
    },
    "accelerator": "GPU"
  },
  "cells": [
    {
      "cell_type": "markdown",
      "metadata": {
        "id": "view-in-github",
        "colab_type": "text"
      },
      "source": [
        "<a href=\"https://colab.research.google.com/github/Krit-Barnwal/Summer-Ai-Ml/blob/main/Day1_AI_ML_Krit.ipynb\" target=\"_parent\"><img src=\"https://colab.research.google.com/assets/colab-badge.svg\" alt=\"Open In Colab\"/></a>"
      ]
    },
    {
      "cell_type": "markdown",
      "source": [
        "#Day 1 - Python Introduction\n",
        "![download.jpg](data:image/jpeg;base64,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)\n",
        "\n",
        "##Things taught :-\n",
        "\n",
        "1.   Basics of python\n",
        "2.   Numpy\n",
        "3.   Pandas\n",
        "\n"
      ],
      "metadata": {
        "id": "EUqJjrr0-AqL"
      }
    },
    {
      "cell_type": "code",
      "source": [
        "#Program to show arithematic operation\n",
        "def take_input():\n",
        "\n",
        "  num1 = int(input(\"Enter the first number : \"))\n",
        "  num2 = int(input(\"Enter the second number : \"))\n",
        "\n",
        "  return num1,num2"
      ],
      "metadata": {
        "id": "ESvidyAYkicO"
      },
      "execution_count": null,
      "outputs": []
    },
    {
      "cell_type": "code",
      "source": [
        " def menu_driver(num1,num2):\n",
        "  while True:\n",
        "      choice = int(input(\"Choose the operation you want to perform\\n1 for addition\\n2 for subtract\\n3 for product\\n4 for divide\\n\"))\n",
        "      if choice == 1:\n",
        "        print(f\"Result : {num1 + num2}\")\n",
        "      elif choice == 2:\n",
        "        print(f\"Result : {num1 - num2}\")\n",
        "      elif choice == 3:\n",
        "        print(f\"Result : {num1 * num2}\")\n",
        "      elif choice == 4:\n",
        "        print(f\"Result : {num1 / num2}\")\n",
        "      else:\n",
        "        print(\"Invalid input\")\n",
        "        continue\n",
        "      break #after loop ends\n",
        "      prog_looper()"
      ],
      "metadata": {
        "id": "viDLHR8Lp2-2"
      },
      "execution_count": null,
      "outputs": []
    },
    {
      "cell_type": "code",
      "source": [
        "def prog_looper(): #whether it will run the new program\n",
        "  choice = input(\"Do you want to continue (y or n) ?\")\n",
        "  if choice == 'n'or 'N':\n",
        "    print(\"Bye\")\n",
        "    return False\n",
        "  elif choice == 'y'or 'Y':\n",
        "    return True\n",
        "  else:\n",
        "    print(\"Wrong character selected :\")\n",
        "    prog_looper()"
      ],
      "metadata": {
        "id": "76dAAvPS_x7U"
      },
      "execution_count": null,
      "outputs": []
    },
    {
      "cell_type": "code",
      "source": [
        "def main_loop():\n",
        "  flag = True\n",
        "\n",
        "  while(flag):\n",
        "    num1,num2 = take_input()\n",
        "    menu_driver(num1,num2)\n",
        "    flag = prog_looper()\n",
        "main_loop()"
      ],
      "metadata": {
        "id": "deqtaYzw_yC7"
      },
      "execution_count": null,
      "outputs": []
    },
    {
      "cell_type": "markdown",
      "source": [
        "#Numpy\n"
      ],
      "metadata": {
        "id": "ZB1BzMg7QIQm"
      }
    },
    {
      "cell_type": "code",
      "source": [
        "#import third pary library in python instance\n",
        "import numpy as np"
      ],
      "metadata": {
        "id": "vEwca1U5QKa1"
      },
      "execution_count": null,
      "outputs": []
    },
    {
      "cell_type": "code",
      "source": [
        "narray = np.array([1,2,3])\n",
        "print(narray)\n",
        "type(narray)"
      ],
      "metadata": {
        "colab": {
          "base_uri": "https://localhost:8080/"
        },
        "id": "F29Xg0TfQes1",
        "outputId": "b27fc8c4-1486-4d3c-cdf2-c15d2dc90f6c"
      },
      "execution_count": null,
      "outputs": [
        {
          "output_type": "execute_result",
          "data": {
            "text/plain": [
              "numpy.ndarray"
            ]
          },
          "metadata": {},
          "execution_count": 4
        }
      ]
    },
    {
      "cell_type": "code",
      "source": [
        " n2arr = narray.copy() #to copy the content of another array\n",
        " n2arr\n",
        " #element by element operation\n",
        " print(narray+n2arr)\n",
        " print(narray-n2arr)\n",
        " print(narray*n2arr)\n",
        " print(narray/n2arr)"
      ],
      "metadata": {
        "colab": {
          "base_uri": "https://localhost:8080/"
        },
        "id": "tPYynqHLQg6l",
        "outputId": "7faa80cf-984d-4325-cba8-b8c7065354fa"
      },
      "execution_count": null,
      "outputs": [
        {
          "output_type": "stream",
          "name": "stdout",
          "text": [
            "[2 4 6]\n",
            "[0 0 0]\n",
            "[1 4 9]\n",
            "[1. 1. 1.]\n"
          ]
        }
      ]
    },
    {
      "cell_type": "markdown",
      "source": [
        "##functions of numpy"
      ],
      "metadata": {
        "id": "XntavO57VGyo"
      }
    },
    {
      "cell_type": "markdown",
      "source": [
        "###Generating sequential data"
      ],
      "metadata": {
        "id": "kRJ1d__7VSix"
      }
    },
    {
      "cell_type": "code",
      "source": [
        "#it return series of numbers from start to end with difference of step size\n",
        "#maximum value n(10)-stepsize\n",
        "np.arange(1,10,3)\n"
      ],
      "metadata": {
        "colab": {
          "base_uri": "https://localhost:8080/"
        },
        "id": "ajF6df9yVHZI",
        "outputId": "09515fdc-c8bc-42ed-cbb9-ab2af8cb7116"
      },
      "execution_count": null,
      "outputs": [
        {
          "output_type": "execute_result",
          "data": {
            "text/plain": [
              "array([1, 4, 7])"
            ]
          },
          "metadata": {},
          "execution_count": 16
        }
      ]
    },
    {
      "cell_type": "code",
      "source": [
        "np.linspace(1,10,50) #start,stop,number of number you want to produce"
      ],
      "metadata": {
        "colab": {
          "base_uri": "https://localhost:8080/"
        },
        "id": "l2W07OwbXCuf",
        "outputId": "805a629f-17fb-4709-ca47-db9c828b9e0a"
      },
      "execution_count": null,
      "outputs": [
        {
          "output_type": "execute_result",
          "data": {
            "text/plain": [
              "array([ 1.        ,  1.18367347,  1.36734694,  1.55102041,  1.73469388,\n",
              "        1.91836735,  2.10204082,  2.28571429,  2.46938776,  2.65306122,\n",
              "        2.83673469,  3.02040816,  3.20408163,  3.3877551 ,  3.57142857,\n",
              "        3.75510204,  3.93877551,  4.12244898,  4.30612245,  4.48979592,\n",
              "        4.67346939,  4.85714286,  5.04081633,  5.2244898 ,  5.40816327,\n",
              "        5.59183673,  5.7755102 ,  5.95918367,  6.14285714,  6.32653061,\n",
              "        6.51020408,  6.69387755,  6.87755102,  7.06122449,  7.24489796,\n",
              "        7.42857143,  7.6122449 ,  7.79591837,  7.97959184,  8.16326531,\n",
              "        8.34693878,  8.53061224,  8.71428571,  8.89795918,  9.08163265,\n",
              "        9.26530612,  9.44897959,  9.63265306,  9.81632653, 10.        ])"
            ]
          },
          "metadata": {},
          "execution_count": 18
        }
      ]
    },
    {
      "cell_type": "code",
      "source": [
        "#To generate a random value"
      ],
      "metadata": {
        "id": "Tfp4dmA_XJ4O"
      },
      "execution_count": null,
      "outputs": []
    },
    {
      "cell_type": "code",
      "source": [
        "np.random.seed(5) #it fixes the seed value [5 means positive value] seed value is the starting point of masked values\n",
        "rval = np.random.random((10)) #generate numbers between 0 & 1\n",
        "rval"
      ],
      "metadata": {
        "colab": {
          "base_uri": "https://localhost:8080/"
        },
        "id": "TRbXjlE2XYxf",
        "outputId": "10dcf6f3-cea9-4156-c05e-82bf2aafc3a4"
      },
      "execution_count": null,
      "outputs": [
        {
          "output_type": "execute_result",
          "data": {
            "text/plain": [
              "array([0.22199317, 0.87073231, 0.20671916, 0.91861091, 0.48841119,\n",
              "       0.61174386, 0.76590786, 0.51841799, 0.2968005 , 0.18772123])"
            ]
          },
          "metadata": {},
          "execution_count": 23
        }
      ]
    },
    {
      "cell_type": "code",
      "source": [
        "a = 10\n",
        "b = 50\n",
        "\n",
        "val4 = a+(b-a)*np.random.random((20))\n",
        "print(val4)"
      ],
      "metadata": {
        "colab": {
          "base_uri": "https://localhost:8080/"
        },
        "id": "aZS-K9jfXci_",
        "outputId": "c9bd41e9-bca0-49b6-d6a8-0219b22ee6ec"
      },
      "execution_count": null,
      "outputs": [
        {
          "output_type": "stream",
          "name": "stdout",
          "text": [
            "[13.22965075 39.53761185 27.65236892 16.33239471 45.19748125 20.96345848\n",
            " 26.56940076 21.84319731 35.15151636 33.19351241 33.99716786 20.6327647\n",
            " 21.38743523 20.14352823 23.10255791 15.76657203 16.62451445 48.55722116\n",
            " 48.40906861 17.53658622]\n"
          ]
        }
      ]
    },
    {
      "cell_type": "code",
      "source": [
        "np.random.randint(1,10,100)\n"
      ],
      "metadata": {
        "colab": {
          "base_uri": "https://localhost:8080/"
        },
        "id": "peIDtmpNaScP",
        "outputId": "2ddd57d6-aaea-4b7b-e776-78b004afbb25"
      },
      "execution_count": null,
      "outputs": [
        {
          "output_type": "execute_result",
          "data": {
            "text/plain": [
              "(100,)"
            ]
          },
          "metadata": {},
          "execution_count": 27
        }
      ]
    },
    {
      "cell_type": "code",
      "source": [
        "#creates a zero matri and ones matrix\n",
        "print(np.zeros((3,3)))\n",
        "print()\n",
        "print(np.ones(5))\n",
        "g = np.full((10),100) # first is the total number of numbers and second is the number you want it to repeat"
      ],
      "metadata": {
        "colab": {
          "base_uri": "https://localhost:8080/"
        },
        "id": "mRKU15oaaWXu",
        "outputId": "c3617ac5-5eb8-4d22-a679-5fe5943f9da4"
      },
      "execution_count": null,
      "outputs": [
        {
          "output_type": "stream",
          "name": "stdout",
          "text": [
            "[[0. 0. 0.]\n",
            " [0. 0. 0.]\n",
            " [0. 0. 0.]]\n",
            "\n",
            "[1. 1. 1. 1. 1.]\n"
          ]
        }
      ]
    },
    {
      "cell_type": "markdown",
      "source": [
        "# Statistical function"
      ],
      "metadata": {
        "id": "3GyN4SQKb_Y6"
      }
    },
    {
      "cell_type": "code",
      "source": [
        "np.random.seed(10)\n",
        "val = np.random.randint(1,100,15)\n",
        "s = val.sum()\n",
        "min = val.min()\n",
        "max = val.max()\n",
        "#to get pos of max or min or anything u use\n",
        "minindex = min.argmin() #it will return the indext\n",
        "print(minindex)\n",
        "print()\n",
        "print(min,max,s)\n"
      ],
      "metadata": {
        "colab": {
          "base_uri": "https://localhost:8080/",
          "height": 220
        },
        "id": "hZJNaDrTbszZ",
        "outputId": "22130938-46bc-46f7-ef11-7e2beccaca6d"
      },
      "execution_count": null,
      "outputs": [
        {
          "output_type": "error",
          "ename": "AttributeError",
          "evalue": "'numpy.int64' object has no attribute 'avgmin'",
          "traceback": [
            "\u001b[0;31m---------------------------------------------------------------------------\u001b[0m",
            "\u001b[0;31mAttributeError\u001b[0m                            Traceback (most recent call last)",
            "\u001b[0;32m<ipython-input-37-1ed28ab6199e>\u001b[0m in \u001b[0;36m<cell line: 7>\u001b[0;34m()\u001b[0m\n\u001b[1;32m      5\u001b[0m \u001b[0mmax\u001b[0m \u001b[0;34m=\u001b[0m \u001b[0mval\u001b[0m\u001b[0;34m.\u001b[0m\u001b[0mmax\u001b[0m\u001b[0;34m(\u001b[0m\u001b[0;34m)\u001b[0m\u001b[0;34m\u001b[0m\u001b[0;34m\u001b[0m\u001b[0m\n\u001b[1;32m      6\u001b[0m \u001b[0;31m#to get pos of max or min or anything u use\u001b[0m\u001b[0;34m\u001b[0m\u001b[0;34m\u001b[0m\u001b[0m\n\u001b[0;32m----> 7\u001b[0;31m \u001b[0mminindex\u001b[0m \u001b[0;34m=\u001b[0m \u001b[0mmin\u001b[0m\u001b[0;34m.\u001b[0m\u001b[0mavgmin\u001b[0m\u001b[0;34m(\u001b[0m\u001b[0;34m)\u001b[0m\u001b[0;34m\u001b[0m\u001b[0;34m\u001b[0m\u001b[0m\n\u001b[0m\u001b[1;32m      8\u001b[0m \u001b[0mprint\u001b[0m\u001b[0;34m(\u001b[0m\u001b[0mminindex\u001b[0m\u001b[0;34m)\u001b[0m\u001b[0;34m\u001b[0m\u001b[0;34m\u001b[0m\u001b[0m\n\u001b[1;32m      9\u001b[0m \u001b[0mprint\u001b[0m\u001b[0;34m(\u001b[0m\u001b[0;34m)\u001b[0m\u001b[0;34m\u001b[0m\u001b[0;34m\u001b[0m\u001b[0m\n",
            "\u001b[0;31mAttributeError\u001b[0m: 'numpy.int64' object has no attribute 'avgmin'"
          ]
        }
      ]
    },
    {
      "cell_type": "code",
      "source": [
        "#sin and cos function on linspace for matplotlib\n",
        "import matplotlib.pyplot as plt\n",
        "x = np.linspace(1,10,100)\n",
        "y = np.sin(x)\n",
        "z = np.cos(x)"
      ],
      "metadata": {
        "id": "vzMQZTU6cRKK"
      },
      "execution_count": null,
      "outputs": []
    },
    {
      "cell_type": "code",
      "source": [
        "plt.figure(1,figsize = (5,3)) #1 is the figure number and 5,3 is the sizw\n",
        "plt.plot(x,y,'r',label = \"sin\")\n",
        "plt.legend()\n",
        "plt.grid('on')\n",
        "plt.figure(2,figsize=(5,3))\n",
        "plt.plot(x,z,label = \"cos\")\n",
        "plt.legend()\n",
        "plt.grid('on')\n",
        "plt.show()"
      ],
      "metadata": {
        "colab": {
          "base_uri": "https://localhost:8080/",
          "height": 565
        },
        "id": "_ENxvyeqewl3",
        "outputId": "2abf9c10-a379-4ecb-a5d5-321e422b0ec9"
      },
      "execution_count": null,
      "outputs": [
        {
          "output_type": "display_data",
          "data": {
            "text/plain": [
              "<Figure size 500x300 with 1 Axes>"
            ],
            "image/png": "[encoded data removed]"
          },
          "metadata": {}
        },
        {
          "output_type": "display_data",
          "data": {
            "text/plain": [
              "<Figure size 500x300 with 1 Axes>"
            ],
            "image/png": "[encoded data removed]"
          },
          "metadata": {}
        }
      ]
    },
    {
      "cell_type": "code",
      "source": [],
      "metadata": {
        "id": "106ZVd1He294"
      },
      "execution_count": null,
      "outputs": []
    }
  ]
}